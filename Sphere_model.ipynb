{
 "cells": [
  {
   "cell_type": "markdown",
   "metadata": {},
   "source": []
  },
  {
   "cell_type": "code",
   "execution_count": null,
   "metadata": {},
   "outputs": [],
   "source": [
    "sphere = mne.make_sphere_model(r0=(0.,0.,0.),head_radius=None)\n",
    "mne.viz.plot_alignment(raw.info,subject='sample',meg='helmet',bem=sphere,\n",
    "                      dig=True,surfaces['brain'])"
   ]
  },
  {
   "cell_type": "code",
   "execution_count": null,
   "metadata": {},
   "outputs": [],
   "source": []
  },
  {
   "cell_type": "code",
   "execution_count": null,
   "metadata": {},
   "outputs": [],
   "source": []
  },
  {
   "cell_type": "markdown",
   "metadata": {},
   "source": [
    "\n",
    "- https://mne.tools/stable/auto_tutorials/sample-datasets/plot_brainstorm_phantom_ctf.html#sphx-glr-auto-tutorials-sample-datasets-plot-brainstorm-phantom-ctf-py\n",
    "- https://mne.tools/stable/overview/implementation.html#eeg-sphere-model"
   ]
  }
 ],
 "metadata": {
  "kernelspec": {
   "display_name": "Python 3",
   "language": "python",
   "name": "python3"
  },
  "language_info": {
   "codemirror_mode": {
    "name": "ipython",
    "version": 3
   },
   "file_extension": ".py",
   "mimetype": "text/x-python",
   "name": "python",
   "nbconvert_exporter": "python",
   "pygments_lexer": "ipython3",
   "version": "3.7.5"
  }
 },
 "nbformat": 4,
 "nbformat_minor": 4
}
